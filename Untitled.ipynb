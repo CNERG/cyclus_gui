{
 "cells": [
  {
   "cell_type": "code",
   "execution_count": 1,
   "metadata": {},
   "outputs": [],
   "source": [
    "import json"
   ]
  },
  {
   "cell_type": "code",
   "execution_count": 2,
   "metadata": {},
   "outputs": [],
   "source": [
    "with open('./src/metadata.json', 'r') as f:\n",
    "    jtxt = f.read()\n",
    "\n",
    "j = json.loads(jtxt)"
   ]
  },
  {
   "cell_type": "code",
   "execution_count": 4,
   "metadata": {},
   "outputs": [
    {
     "data": {
      "text/plain": [
       "dict_keys(['annotations', 'schema', 'specs'])"
      ]
     },
     "execution_count": 4,
     "metadata": {},
     "output_type": "execute_result"
    }
   ],
   "source": [
    "j.keys()"
   ]
  },
  {
   "cell_type": "code",
   "execution_count": 24,
   "metadata": {},
   "outputs": [
    {
     "name": "stdout",
     "output_type": "stream",
     "text": [
      "feed (['cyclus::toolkit::ResBuf', 'cyclus::Material']):\n",
      "\n",
      "Default:\n",
      "\n",
      "\n",
      "feed_commod_prefs (['std::vector', 'double']):\n",
      "Feed commodity request preferences for each of the given feed commodities (same order). If unspecified, default is to use 1.0 for all preferences.\n",
      "Default:[]\n",
      "\n",
      "\n",
      "feed_commods (['std::vector', 'std::string']):\n",
      "Ordered list of commodities on which to request feed material to separate. Order only matters for matching up with feed commodity preferences if specified.\n",
      "Default:\n",
      "\n",
      "\n",
      "feed_recipe (std::string):\n",
      "Name for recipe to be used in feed requests. Empty string results in use of a dummy recipe.\n",
      "Default:\n",
      "\n",
      "\n",
      "feedbuf_size (double):\n",
      "Maximum amount of feed material to keep on hand.\n",
      "Default:\n",
      "\n",
      "\n",
      "latitude (double):\n",
      "Latitude of the agent's geographical position. The value should be expressed in degrees as a double.\n",
      "Default:0.0\n",
      "\n",
      "\n",
      "leftover (['cyclus::toolkit::ResBuf', 'cyclus::Material']):\n",
      "\n",
      "Default:\n",
      "\n",
      "\n",
      "leftover_commod (std::string):\n",
      "Commodity on which to trade the leftover separated material stream. This MUST NOT be the same as any commodity used to define the other separations streams.\n",
      "Default:default-waste-stream\n",
      "\n",
      "\n",
      "leftoverbuf_size (double):\n",
      "Maximum amount of leftover separated material (not included in any other stream) that can be stored. If full, the facility halts operation until space becomes available.\n",
      "Default:1e+299\n",
      "\n",
      "\n",
      "longitude (double):\n",
      "Longitude of the agent's geographical position. The value should be expressed in degrees as a double.\n",
      "Default:0.0\n",
      "\n",
      "\n"
     ]
    },
    {
     "ename": "AttributeError",
     "evalue": "'str' object has no attribute 'keys'",
     "output_type": "error",
     "traceback": [
      "\u001b[0;31m---------------------------------------------------------------------------\u001b[0m",
      "\u001b[0;31mAttributeError\u001b[0m                            Traceback (most recent call last)",
      "\u001b[0;32m<ipython-input-24-af199fb6999e>\u001b[0m in \u001b[0;36m<module>\u001b[0;34m\u001b[0m\n\u001b[1;32m     25\u001b[0m         \u001b[0mprint\u001b[0m\u001b[0;34m(\u001b[0m\u001b[0;34m'\\n'\u001b[0m\u001b[0;34m)\u001b[0m\u001b[0;34m\u001b[0m\u001b[0;34m\u001b[0m\u001b[0m\n\u001b[1;32m     26\u001b[0m \u001b[0;34m\u001b[0m\u001b[0m\n\u001b[0;32m---> 27\u001b[0;31m \u001b[0mparse_variable_dict\u001b[0m\u001b[0;34m(\u001b[0m\u001b[0mvariables\u001b[0m\u001b[0;34m)\u001b[0m\u001b[0;34m\u001b[0m\u001b[0;34m\u001b[0m\u001b[0m\n\u001b[0m\u001b[1;32m     28\u001b[0m \u001b[0;34m\u001b[0m\u001b[0m\n",
      "\u001b[0;32m<ipython-input-24-af199fb6999e>\u001b[0m in \u001b[0;36mparse_variable_dict\u001b[0;34m(variable_dict)\u001b[0m\n\u001b[1;32m      5\u001b[0m     \u001b[0;32mfor\u001b[0m \u001b[0mname\u001b[0m\u001b[0;34m,\u001b[0m \u001b[0mspecs\u001b[0m \u001b[0;32min\u001b[0m \u001b[0mvariable_dict\u001b[0m\u001b[0;34m.\u001b[0m\u001b[0mitems\u001b[0m\u001b[0;34m(\u001b[0m\u001b[0;34m)\u001b[0m\u001b[0;34m:\u001b[0m\u001b[0;34m\u001b[0m\u001b[0;34m\u001b[0m\u001b[0m\n\u001b[1;32m      6\u001b[0m \u001b[0;34m\u001b[0m\u001b[0m\n\u001b[0;32m----> 7\u001b[0;31m         \u001b[0;32mif\u001b[0m \u001b[0;34m'doc'\u001b[0m \u001b[0;32min\u001b[0m \u001b[0mspecs\u001b[0m\u001b[0;34m.\u001b[0m\u001b[0mkeys\u001b[0m\u001b[0;34m(\u001b[0m\u001b[0;34m)\u001b[0m\u001b[0;34m:\u001b[0m\u001b[0;34m\u001b[0m\u001b[0;34m\u001b[0m\u001b[0m\n\u001b[0m\u001b[1;32m      8\u001b[0m             \u001b[0mdoc_\u001b[0m \u001b[0;34m=\u001b[0m \u001b[0mspecs\u001b[0m\u001b[0;34m[\u001b[0m\u001b[0;34m'doc'\u001b[0m\u001b[0;34m]\u001b[0m\u001b[0;34m\u001b[0m\u001b[0;34m\u001b[0m\u001b[0m\n\u001b[1;32m      9\u001b[0m         \u001b[0;32melif\u001b[0m \u001b[0;34m'tooltip'\u001b[0m \u001b[0;32min\u001b[0m \u001b[0mspecs\u001b[0m\u001b[0;34m.\u001b[0m\u001b[0mkeys\u001b[0m\u001b[0;34m(\u001b[0m\u001b[0;34m)\u001b[0m\u001b[0;34m:\u001b[0m\u001b[0;34m\u001b[0m\u001b[0;34m\u001b[0m\u001b[0m\n",
      "\u001b[0;31mAttributeError\u001b[0m: 'str' object has no attribute 'keys'"
     ]
    }
   ],
   "source": [
    "\n",
    "doc = j['annotations'][':cycamore:Separations']['doc']\n",
    "variables = j['annotations'][':cycamore:Separations']['vars']\n",
    "def parse_variable_dict(variable_dict):\n",
    "    for name, specs in variable_dict.items():\n",
    "        \n",
    "        if 'doc' in specs.keys():\n",
    "            doc_ = specs['doc']\n",
    "        elif 'tooltip' in specs.keys():\n",
    "            doc_ = specs['tooltip']\n",
    "        else:\n",
    "            doc_ = ''\n",
    "        \n",
    "        if 'type' in specs.keys():\n",
    "            type_ = specs['type']\n",
    "        else:\n",
    "            type_ = ''\n",
    "            \n",
    "        if 'default' in specs.keys():\n",
    "            default_ = specs['default']\n",
    "        else:\n",
    "            default_ = ''\n",
    "        \n",
    "        print('%s (%s):\\n%s\\n%s' %(name, type_, doc_, 'Default:%s'%default_))\n",
    "        print('\\n')\n",
    "    \n",
    "parse_variable_dict(variables)\n",
    "        "
   ]
  },
  {
   "cell_type": "code",
   "execution_count": 23,
   "metadata": {},
   "outputs": [
    {
     "name": "stdout",
     "output_type": "stream",
     "text": [
      "feed\n",
      "[-1, -1]\n",
      "feed_commod_prefs\n",
      "[-1, -1]\n",
      "feed_commods\n",
      "[-1, -1]\n",
      "feed_recipe\n",
      "[-1]\n",
      "feedbuf_size\n",
      "[-1]\n",
      "latitude\n",
      "[-1]\n",
      "leftover\n",
      "[-1, -1]\n",
      "leftover_commod\n",
      "[-1]\n",
      "leftoverbuf_size\n",
      "[-1]\n",
      "longitude\n",
      "[-1]\n",
      "streams\n",
      "streams_\n",
      "streams_\n",
      "[-1, -1, -1, -1, -1, -1, -1]\n",
      "throughput\n",
      "[-1]\n"
     ]
    }
   ],
   "source": [
    "for key, val in variables.items():\n",
    "    print(key)\n",
    "    try:\n",
    "        print(val['shape'])\n",
    "    except:\n",
    "        print(val)"
   ]
  },
  {
   "cell_type": "code",
   "execution_count": null,
   "metadata": {},
   "outputs": [],
   "source": []
  }
 ],
 "metadata": {
  "kernelspec": {
   "display_name": "Python 3",
   "language": "python",
   "name": "python3"
  },
  "language_info": {
   "codemirror_mode": {
    "name": "ipython",
    "version": 3
   },
   "file_extension": ".py",
   "mimetype": "text/x-python",
   "name": "python",
   "nbconvert_exporter": "python",
   "pygments_lexer": "ipython3",
   "version": "3.7.1"
  }
 },
 "nbformat": 4,
 "nbformat_minor": 2
}
