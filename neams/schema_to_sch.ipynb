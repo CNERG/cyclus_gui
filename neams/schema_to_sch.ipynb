{
 "cells": [
  {
   "cell_type": "code",
   "execution_count": 1,
   "metadata": {},
   "outputs": [],
   "source": [
    "\n",
    "import copy\n",
    "import xmltodict\n",
    "import numpy as np\n",
    "import json\n",
    "import pprint"
   ]
  },
  {
   "cell_type": "code",
   "execution_count": 2,
   "metadata": {},
   "outputs": [],
   "source": [
    "# % is the comment for SON"
   ]
  },
  {
   "cell_type": "code",
   "execution_count": 3,
   "metadata": {},
   "outputs": [],
   "source": [
    "f = json.loads(open('m.json').read())"
   ]
  },
  {
   "cell_type": "code",
   "execution_count": 4,
   "metadata": {},
   "outputs": [],
   "source": [
    "specs = f['specs']\n",
    "ex = specs[-4]\n",
    "\n",
    "\n",
    "#def read_schema()\n",
    "xmltodict.parse(f['schema'][ex])['interleave'].keys()\n",
    "d = xmltodict.parse(f['schema'][ex])"
   ]
  },
  {
   "cell_type": "code",
   "execution_count": 5,
   "metadata": {
    "scrolled": false
   },
   "outputs": [
    {
     "data": {
      "text/plain": [
       "{'alias': 'in_capacity',\n",
       " 'doc': 'number of commodity units that can be taken at each timestep (infinite capacity can be represented by a very large number)',\n",
       " 'index': 3,\n",
       " 'shape': [-1],\n",
       " 'tooltip': 'input commodity capacity',\n",
       " 'type': 'double',\n",
       " 'uilabel': 'Incoming Throughput'}"
      ]
     },
     "execution_count": 5,
     "metadata": {},
     "output_type": "execute_result"
    }
   ],
   "source": [
    "f['annotations'][':agents:KFacility']['vars']['in_capacity']"
   ]
  },
  {
   "cell_type": "code",
   "execution_count": 6,
   "metadata": {},
   "outputs": [
    {
     "data": {
      "text/plain": [
       "[':agents:KFacility',\n",
       " ':agents:NullInst',\n",
       " ':agents:NullRegion',\n",
       " ':agents:Predator',\n",
       " ':agents:Prey',\n",
       " ':agents:Sink',\n",
       " ':agents:Source',\n",
       " ':cycamore:DeployInst',\n",
       " ':cycamore:Enrichment',\n",
       " ':cycamore:FuelFab',\n",
       " ':cycamore:GrowthRegion',\n",
       " ':cycamore:ManagerInst',\n",
       " ':cycamore:Mixer',\n",
       " ':cycamore:Reactor',\n",
       " ':cycamore:Separations',\n",
       " ':cycamore:Sink',\n",
       " ':cycamore:Source',\n",
       " ':cycamore:Storage']"
      ]
     },
     "execution_count": 6,
     "metadata": {},
     "output_type": "execute_result"
    }
   ],
   "source": [
    "archetypes = f['specs']\n",
    "archetypes"
   ]
  },
  {
   "cell_type": "code",
   "execution_count": 7,
   "metadata": {},
   "outputs": [
    {
     "name": "stdout",
     "output_type": "stream",
     "text": [
      "{'feed_commod_prefs': {'MaxOccurs': 1, 'val': {'ValType': 'Real'}},\n",
      " 'feed_commods': {'MaxOccurs': 1,\n",
      "                  'MinOccurs': 1,\n",
      "                  'val': {'MinOccurs': 1, 'ValType': 'String'}},\n",
      " 'feed_recipe': {'MaxOccurs': 1, 'ValType': 'String'},\n",
      " 'feedbuf_size': {'MaxOccurs': 1, 'MinOccurs': 1, 'ValType': 'Real'},\n",
      " 'latitude': {'MaxOccurs': 1, 'ValType': 'Real'},\n",
      " 'leftover_commod': {'MaxOccurs': 1, 'ValType': 'String'},\n",
      " 'leftoverbuf_size': {'MaxOccurs': 1, 'ValType': 'Real'},\n",
      " 'longitude': {'MaxOccurs': 1, 'ValType': 'Real'},\n",
      " 'streams': {'MaxOccurs': 1,\n",
      "             'MinOccurs': 1,\n",
      "             'item': {'MinOccurs': 1,\n",
      "                      'commod': {'MaxOccurs': 1,\n",
      "                                 'MinOccurs': 1,\n",
      "                                 'ValType': 'String'},\n",
      "                      'info': {'MaxOccurs': 1,\n",
      "                               'MinOccurs': 1,\n",
      "                               'buf_size': {'MaxOccurs': 1,\n",
      "                                            'MinOccurs': 1,\n",
      "                                            'ValType': 'Real'},\n",
      "                               'efficiencies': {'MaxOccurs': 1,\n",
      "                                                'MinOccurs': 1,\n",
      "                                                'item': {'MinOccurs': 1,\n",
      "                                                         'comp': {'MaxOccurs': 1,\n",
      "                                                                  'MinOccurs': 1,\n",
      "                                                                  'ValType': 'String'},\n",
      "                                                         'eff': {'MaxOccurs': 1,\n",
      "                                                                 'MinOccurs': 1,\n",
      "                                                                 'ValType': 'Real'}}}}}},\n",
      " 'throughput': {'MaxOccurs': 1, 'ValType': 'Real'}}\n"
     ]
    }
   ],
   "source": [
    "conversion_dict = {'string': 'String',\n",
    "                   'nonNegativeInteger': 'Int',\n",
    "                   'boolean': 'Int',\n",
    "                   'double': 'Real',\n",
    "                   'positiveInteger': 'Int',\n",
    "                   'float': 'Real',\n",
    "                   'double': 'Real',\n",
    "                   'duration': 'Int',\n",
    "                   'integer': 'Int',\n",
    "                   'nonPositiveInteger': 'Int',\n",
    "                   'negativeInteger': 'Int',\n",
    "                   'long': 'Real',\n",
    "                   'int': 'Int',\n",
    "                   'token': 'Real'\n",
    "                   }\n",
    "\n",
    "def read_element(eld, from_one_or_more=False, optional=False):\n",
    "    if 'interleave' in eld.keys():\n",
    "        s = read_interleave(eld['interleave'], eld['@name'], from_one_or_more, optional)\n",
    "        return s\n",
    "\n",
    "    # now there's optional and non-optional\n",
    "    keys = eld.keys()\n",
    "    if not from_one_or_more:\n",
    "        options = {'MaxOccurs': 1}\n",
    "    else:\n",
    "        options = {}\n",
    "\n",
    "    if optional:\n",
    "        options = options\n",
    "    else:\n",
    "        options['MinOccurs'] = 1\n",
    "        \n",
    "    s = {eld['@name']: options}\n",
    "    www = np.random.uniform(0, 10)\n",
    "    if 'oneOrMore' in keys:\n",
    "        s[eld['@name']].update(read_element(eld['oneOrMore']['element'],\n",
    "                                       from_one_or_more=True, optional=optional)\n",
    "                              )\n",
    "\n",
    "        return s\n",
    "\n",
    "    if 'data' in keys:\n",
    "        options['ValType'] = conversion_dict[eld['data']['@type']]\n",
    "        s[eld['@name']] = options\n",
    "        return s\n",
    "\n",
    "            \n",
    "def read_interleave(intd, name, from_one_or_more, optional):\n",
    "    if not optional:\n",
    "        options = {'MinOccurs':1}\n",
    "    else:\n",
    "        options = {}\n",
    "    if not from_one_or_more:\n",
    "        options['MaxOccurs'] = 1\n",
    "    d = {name: options}\n",
    "    for i in intd['element']:\n",
    "        d[name].update(read_element(i))\n",
    "    return d\n",
    "\n",
    "\n",
    "\n",
    "sep_dict = {}\n",
    "d = xmltodict.parse(f['schema'][':cycamore:Separations'])\n",
    "for i in json.loads(json.dumps(d['interleave']['element'])):\n",
    "    sep_dict.update(read_element(i))\n",
    "for j in json.loads(json.dumps(d['interleave']['optional'])):\n",
    "    sep_dict.update(read_element(j['element'], optional=True))\n",
    "pprint.pprint(sep_dict)"
   ]
  },
  {
   "cell_type": "code",
   "execution_count": 8,
   "metadata": {},
   "outputs": [
    {
     "data": {
      "text/plain": [
       "'<text/>\\n'"
      ]
     },
     "execution_count": 8,
     "metadata": {},
     "output_type": "execute_result"
    }
   ],
   "source": [
    "f['schema'][':agents:NullRegion']"
   ]
  },
  {
   "cell_type": "code",
   "execution_count": 9,
   "metadata": {
    "scrolled": true
   },
   "outputs": [
    {
     "ename": "NameError",
     "evalue": "name 'schema_dict_string_to_template' is not defined",
     "output_type": "error",
     "traceback": [
      "\u001b[0;31m---------------------------------------------------------------------------\u001b[0m",
      "\u001b[0;31mNameError\u001b[0m                                 Traceback (most recent call last)",
      "\u001b[0;32m<ipython-input-9-d7df5764b49b>\u001b[0m in \u001b[0;36m<module>\u001b[0;34m\u001b[0m\n\u001b[1;32m     26\u001b[0m         \u001b[0mschema_dict\u001b[0m\u001b[0;34m[\u001b[0m\u001b[0mkey\u001b[0m\u001b[0;34m]\u001b[0m\u001b[0;34m.\u001b[0m\u001b[0mupdate\u001b[0m\u001b[0;34m(\u001b[0m\u001b[0mread_element\u001b[0m\u001b[0;34m(\u001b[0m\u001b[0mi\u001b[0m\u001b[0;34m[\u001b[0m\u001b[0;34m'element'\u001b[0m\u001b[0;34m]\u001b[0m\u001b[0;34m,\u001b[0m \u001b[0moptional\u001b[0m\u001b[0;34m=\u001b[0m\u001b[0;32mTrue\u001b[0m\u001b[0;34m)\u001b[0m\u001b[0;34m)\u001b[0m\u001b[0;34m\u001b[0m\u001b[0;34m\u001b[0m\u001b[0m\n\u001b[1;32m     27\u001b[0m \u001b[0;34m\u001b[0m\u001b[0m\n\u001b[0;32m---> 28\u001b[0;31m     \u001b[0mtemplate_dict\u001b[0m\u001b[0;34m[\u001b[0m\u001b[0mkey\u001b[0m\u001b[0;34m]\u001b[0m \u001b[0;34m=\u001b[0m \u001b[0mschema_dict_string_to_template\u001b[0m\u001b[0;34m(\u001b[0m\u001b[0mschema_dict\u001b[0m\u001b[0;34m[\u001b[0m\u001b[0mkey\u001b[0m\u001b[0;34m]\u001b[0m\u001b[0;34m,\u001b[0m \u001b[0mkey\u001b[0m\u001b[0;34m)\u001b[0m\u001b[0;34m\u001b[0m\u001b[0;34m\u001b[0m\u001b[0m\n\u001b[0m",
      "\u001b[0;31mNameError\u001b[0m: name 'schema_dict_string_to_template' is not defined"
     ]
    }
   ],
   "source": [
    "def check_if_list(d):\n",
    "    # this is because some schemas,\n",
    "    # if there's only one entry would have\n",
    "    # a dictionary, while if there's multiple\n",
    "    # would have a list\n",
    "    if 'ict' in str(type(d)):\n",
    "        return [d]\n",
    "    else:\n",
    "        return d\n",
    "    \n",
    "\n",
    "schema_dict = {}\n",
    "template_dict = {}\n",
    "for key in f['specs']:\n",
    "    if 'NullRegion' in key or 'NullInst' in key:\n",
    "        schema_dict[key] = {}\n",
    "        continue\n",
    "    libname = key.split(':')[1]\n",
    "    schema_dict[key] = {}\n",
    "    \n",
    "    k = check_if_list(xmltodict.parse(f['schema'][key])['interleave']['element'])\n",
    "    for i in k:\n",
    "        schema_dict[key].update(read_element(i))\n",
    "    k = check_if_list(xmltodict.parse(f['schema'][key])['interleave']['optional'])\n",
    "    for i in k:\n",
    "        schema_dict[key].update(read_element(i['element'], optional=True))\n",
    "\n",
    "    template_dict[key] = schema_dict_string_to_template(schema_dict[key], key)\n"
   ]
  },
  {
   "cell_type": "code",
   "execution_count": null,
   "metadata": {},
   "outputs": [],
   "source": [
    "pprint.pprint(schema_dict[key])\n",
    "\n",
    "print(template_dict[key])"
   ]
  },
  {
   "cell_type": "code",
   "execution_count": 10,
   "metadata": {},
   "outputs": [],
   "source": [
    "def reasonable_linebreak(string, lim=60):\n",
    "        nlines = len(string) // lim\n",
    "\n",
    "        space_indices = []\n",
    "        for i in range(nlines):\n",
    "            n = (i+1)*lim\n",
    "            space_indices.append(string[n:].find(' ') + n)\n",
    "\n",
    "        new_str = ''\n",
    "        for indx, val in enumerate(string):\n",
    "            if indx not in space_indices:\n",
    "                new_str += val\n",
    "            else:\n",
    "                new_str += val + '\\n'\n",
    "\n",
    "        return new_str\n",
    "    \n",
    "    \n",
    "def schema_dict_string_to_template(d, key):\n",
    "    d = {key:d}\n",
    "    c = copy.deepcopy(d)\n",
    "    s = pprint.pformat(delete_keys_from_dict(c, ['MaxOccurs', 'MinOccurs', 'ValType']))\n",
    "    s = s[1:]\n",
    "    s = '\\n'.join(s.split('\\n'))\n",
    "    s = s[:-1]\n",
    "    s = s.replace(\"'\", '')\n",
    "    s = s.replace(',', '')\n",
    "    s = s.replace(':', '')\n",
    "    s = s.replace('\"', '')\n",
    "    s = s.split('\\n')\n",
    "    n = []\n",
    "    for i in s:\n",
    "        var = i.strip().split()[0]\n",
    "        # print(dd[key])\n",
    "        if var == 'streams':\n",
    "            var = 'streams_'\n",
    "        if var not in schema_dict[key].keys():\n",
    "            # multiline variables with weird things\n",
    "            print('skipping', var)\n",
    "            continue\n",
    "        # see if optional\n",
    "       \n",
    "        if 'MinOccur' not in d[key][var]:\n",
    "            optional = '(optional)'\n",
    "        else:\n",
    "            optional = ''\n",
    "        doc = reasonable_linebreak(optional + ' ' +f['annotations'][key]['doc'] ).split('\\n')\n",
    "        for j in doc:\n",
    "            n.append('%' + j)\n",
    "        n.append(i.strip())\n",
    "\n",
    "    return '\\n'.join(n)\n",
    "    \n",
    "\n",
    "def delete_keys_from_dict(dict_del, lst_keys):\n",
    "    for k in lst_keys:\n",
    "        try:\n",
    "            del dict_del[k]\n",
    "        except KeyError:\n",
    "            pass\n",
    "    for v in dict_del.values():\n",
    "        if isinstance(v, dict):\n",
    "            delete_keys_from_dict(v, lst_keys)\n",
    "\n",
    "    return dict_del\n",
    "\n",
    "    \n",
    "def check_if_list(d):\n",
    "    # this is because some schemas,\n",
    "    # if there's only one entry would have\n",
    "    # a dictionary, while if there's multiple\n",
    "    # would have a list\n",
    "    if 'ict' in str(type(element)):\n",
    "        return [d]\n",
    "    else:\n",
    "        return d"
   ]
  },
  {
   "cell_type": "code",
   "execution_count": null,
   "metadata": {},
   "outputs": [],
   "source": []
  },
  {
   "cell_type": "code",
   "execution_count": null,
   "metadata": {},
   "outputs": [],
   "source": []
  },
  {
   "cell_type": "code",
   "execution_count": null,
   "metadata": {},
   "outputs": [],
   "source": []
  },
  {
   "cell_type": "code",
   "execution_count": null,
   "metadata": {},
   "outputs": [],
   "source": []
  },
  {
   "cell_type": "code",
   "execution_count": null,
   "metadata": {},
   "outputs": [],
   "source": []
  },
  {
   "cell_type": "code",
   "execution_count": null,
   "metadata": {},
   "outputs": [],
   "source": []
  },
  {
   "cell_type": "code",
   "execution_count": 3,
   "metadata": {},
   "outputs": [],
   "source": [
    "from generate_sch import generate_schema\n",
    "import pprint"
   ]
  },
  {
   "cell_type": "code",
   "execution_count": 4,
   "metadata": {
    "scrolled": true
   },
   "outputs": [],
   "source": [
    "obj = generate_schema('t')"
   ]
  },
  {
   "cell_type": "code",
   "execution_count": 5,
   "metadata": {},
   "outputs": [],
   "source": [
    "from generate_sch import main\n",
    "main()"
   ]
  },
  {
   "cell_type": "code",
   "execution_count": 6,
   "metadata": {},
   "outputs": [],
   "source": [
    "! open ~/Downloads/Workbench-Darwin/bin/Workbench"
   ]
  },
  {
   "cell_type": "code",
   "execution_count": null,
   "metadata": {},
   "outputs": [],
   "source": []
  }
 ],
 "metadata": {
  "kernelspec": {
   "display_name": "Python 3",
   "language": "python",
   "name": "python3"
  },
  "language_info": {
   "codemirror_mode": {
    "name": "ipython",
    "version": 3
   },
   "file_extension": ".py",
   "mimetype": "text/x-python",
   "name": "python",
   "nbconvert_exporter": "python",
   "pygments_lexer": "ipython3",
   "version": "3.6.8"
  }
 },
 "nbformat": 4,
 "nbformat_minor": 2
}
