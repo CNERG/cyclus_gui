{
 "cells": [
  {
   "cell_type": "markdown",
   "metadata": {},
   "source": [
    "# Input scheme\n",
    "\n",
    "Have everything as a variable so I can perturb it\n",
    "\n",
    "1. Legacy reactor assumed lifetime\n",
    "2. GEN3 LWR lifetime\n",
    "3. What to deploy to meet demand\n",
    "4. Energy demand\n",
    "5. Ratio?"
   ]
  },
  {
   "cell_type": "code",
   "execution_count": 144,
   "metadata": {},
   "outputs": [],
   "source": [
    "import os\n",
    "import numpy as np\n",
    "import matplotlib.pyplot as plt\n",
    "plt.rcParams['image.cmap'] = 'viridis'\n",
    "import xmltodict\n",
    "from pprint import pprint\n",
    "import copy\n",
    "src_path = './src'\n",
    "\n",
    "def read_file_from_src(filename):\n",
    "    return open(os.path.join(src_path, filename), 'r').read()\n",
    "\n",
    "s = read_file_from_src('template.xml')\n",
    "b_list = ['fuel_cycle_facilities.xml', 'reactors.xml', 'regions.xml', 'recipes.xml']\n",
    "for i in b_list:\n",
    "    temp = read_file_from_src(i)\n",
    "    s = s.replace('$'+i, temp)\n",
    "\n",
    "with open('eh.xml', 'w') as f:\n",
    "    f.write(s)"
   ]
  },
  {
   "cell_type": "code",
   "execution_count": 145,
   "metadata": {},
   "outputs": [],
   "source": [
    "d = xmltodict.parse(s)\n",
    "def get_config_dict(d):\n",
    "    power_dict = {}\n",
    "\n",
    "\n",
    "    # get power dict\n",
    "    for i in d['simulation']['facility']:\n",
    "        if 'Reactor' in i['config'].keys():\n",
    "            power_dict[i['name']] = float(i['config']['Reactor']['power_cap'])\n",
    "\n",
    "    # get enter / lifetimes / n_builds\n",
    "    deployed_dict = {}\n",
    "\n",
    "    for reg in d['simulation']['region']:\n",
    "        if not isinstance(reg['institution'], list):\n",
    "            q = [reg['institution']]\n",
    "        else:\n",
    "            q = reg['institution']\n",
    "        for i in q:\n",
    "            deployed_dict[i['name']] = {'lifetime': [],\n",
    "                     'prototype': [],\n",
    "                     'n_build': [],\n",
    "                     'build_times': []}\n",
    "            for indx, val in enumerate(i['config']['DeployInst']['prototypes']['val']):\n",
    "                if val in power_dict.keys():\n",
    "                    deployed_dict[i['name']]['prototype'].append(val)\n",
    "                    deployed_dict[i['name']]['lifetime'].append(int(i['config']['DeployInst']['lifetimes']['val'][indx]))\n",
    "                    deployed_dict[i['name']]['n_build'].append(int(i['config']['DeployInst']['n_build']['val'][indx]))\n",
    "                    deployed_dict[i['name']]['build_times'].append(int(i['config']['DeployInst']['build_times']['val'][indx]))\n",
    "    return power_dict, deployed_dict\n"
   ]
  },
  {
   "cell_type": "code",
   "execution_count": 148,
   "metadata": {},
   "outputs": [
    {
     "name": "stdout",
     "output_type": "stream",
     "text": [
      "show\n"
     ]
    },
    {
     "data": {
      "image/png": "[encoded data removed]",
      "text/plain": [
       "<Figure size 432x288 with 1 Axes>"
      ]
     },
     "metadata": {
      "needs_background": "light"
     },
     "output_type": "display_data"
    }
   ],
   "source": [
    "def legacy_lifetimes(extension_eq):\n",
    "    new_xml = copy.deepcopy(d)\n",
    "    # default has been 60 years = 720 timesteps\n",
    "    for i in range(len(new_xml['simulation']['region'][1]['institution'][0]['config']['DeployInst']['lifetimes']['val'])):\n",
    "        x = eval(extension_eq)\n",
    "        new_xml['simulation']['region'][1]['institution'][0]['config']['DeployInst']['lifetimes']['val'][i] = str(int(new_xml['simulation']['region'][1]['institution'][0]['config']['DeployInst']['lifetimes']['val'][i]) + x)\n",
    "    return new_xml\n",
    "\n",
    "def get_deployed_power(power_dict, deployed_dict):\n",
    "    t = np.arange(960)\n",
    "    inst_power = {}\n",
    "    for key, val in deployed_dict.items():\n",
    "        inst_power[key] = np.zeros(len(t))\n",
    "        for i, v in enumerate(val['prototype']):\n",
    "            inst_power[key][deployed_dict[key]['build_times'][i] : deployed_dict[key]['build_times'][i] + deployed_dict[key]['lifetime'][i]] += power_dict[v] * deployed_dict[key]['n_build'][i]\n",
    "    return t, inst_power\n",
    "    \n",
    "\n",
    "def deploy_to_meet_demand(d, a, z, demand_eq, proto_list, ratio_list, lifetime_list, newinst_name):\n",
    "    filtered =  ''.join(x for x in demand_eq if x.isalpha())\n",
    "    if len(filtered) != 0 and 'x' not in filtered:\n",
    "        raise ValueError('The variable is `x`')\n",
    "        \n",
    "    power_dict, deployed_dict = get_config_dict(d)\n",
    "    t, inst_power = get_deployed_power(power_dict, deployed_dict)\n",
    "    power = np.zeros(960)\n",
    "    for key, val in inst_power.items():\n",
    "        power += val\n",
    "    \n",
    "    # find lack\n",
    "    demand = np.zeros(len(t))\n",
    "    demand[a:z] = [eval(demand_eq) for x in t[a:z]]\n",
    "    lack = demand - power\n",
    "    lack[0] = 0\n",
    "    ratio_list = np.array(ratio_list)\n",
    "    ratio_list = ratio_list / sum(ratio_list)\n",
    "    lifetime_dict = {proto_list[i]: lifetime_list[i] for i, v in enumerate(lifetime_list)}\n",
    "    deploy_dict = {k:np.zeros(len(t)) for k in proto_list}\n",
    "    # split lack\n",
    "    lack_dict = {proto_list[i]: lack * ratio_list[i] for i, v in enumerate(ratio_list)}\n",
    "    \n",
    "    for proto, l in lack_dict.items():\n",
    "        p = config_dict['power'][config_dict['name'].index(proto)]\n",
    "        life = lifetime_dict[proto]\n",
    "        for indx in range(960):\n",
    "            while lack_dict[proto][indx] > 0:\n",
    "                deploy_dict[proto][indx] += 1\n",
    "                lack_dict[proto][indx: indx+life] -= p\n",
    "    \n",
    "    append_d = {'name': newinst_name,\n",
    "                'config': {'DeployInst': {'prototypes': {'val': []},\n",
    "                                          'n_build': {'val': []},\n",
    "                                          'build_times': {'val': []},\n",
    "                                          'lifetimes': {'val': []}}\n",
    "                            }\n",
    "               }\n",
    "    for key in deploy_dict:\n",
    "        for indx, val in enumerate(deploy_dict[key]):\n",
    "            if val == 0:\n",
    "                continue\n",
    "            append_d['config']['DeployInst']['prototypes']['val'].append(key)\n",
    "            append_d['config']['DeployInst']['n_build']['val'].append(val)\n",
    "            append_d['config']['DeployInst']['build_times']['val'].append(indx)\n",
    "            append_d['config']['DeployInst']['lifetimes']['val'].append(lifetime_dict[key])\n",
    "\n",
    "    new_xml = copy.deepcopy(d)\n",
    "    new_xml['simulation']['region'][1]['institution'].append(append_d)\n",
    "    return new_xml\n",
    "\n",
    "def stacked_bar(x, y):\n",
    "    fig = plt.figure()\n",
    "    a2 = fig.add_subplot(111)\n",
    "    prev = copy.deepcopy(np.zeros(960))\n",
    "    for key, val in y.items():\n",
    "        a2.bar(x, height=val, width=1, bottom=prev, label=key+' power')\n",
    "        prev += val\n",
    "    a2.set_title('Power capacity')\n",
    "    a2.set_xlabel('Timesteps')\n",
    "    a2.set_ylabel('Power Capacity')\n",
    "    a2.grid()\n",
    "    a2.legend()\n",
    "    print('show')\n",
    "    plt.show()\n",
    "    \n",
    "\n",
    "\n",
    "q = deploy_to_meet_demand(d, 0, 500, '100000', ['12_SMR', 'ABR'], [0.5, 0.5], [720, 720], 'smrs')\n",
    "q = deploy_to_meet_demand(q, 500, 959, '100000', ['12_SMR'], [1], [720], 'smrs2')\n",
    "power_dict, deployed_dict = get_config_dict(q)\n",
    "#for indx, val in enumerate(deployed_dict['prototype']):\n",
    "#    print(val, deployed_dict['n_build'][indx])\n",
    "\n",
    "t, power = get_deployed_power(power_dict, deployed_dict)\n",
    "stacked_bar(t, power)"
   ]
  },
  {
   "cell_type": "code",
   "execution_count": null,
   "metadata": {},
   "outputs": [],
   "source": []
  },
  {
   "cell_type": "code",
   "execution_count": null,
   "metadata": {},
   "outputs": [],
   "source": []
  },
  {
   "cell_type": "code",
   "execution_count": null,
   "metadata": {},
   "outputs": [],
   "source": []
  }
 ],
 "metadata": {
  "kernelspec": {
   "display_name": "Python 3",
   "language": "python",
   "name": "python3"
  },
  "language_info": {
   "codemirror_mode": {
    "name": "ipython",
    "version": 3
   },
   "file_extension": ".py",
   "mimetype": "text/x-python",
   "name": "python",
   "nbconvert_exporter": "python",
   "pygments_lexer": "ipython3",
   "version": "3.7.3"
  }
 },
 "nbformat": 4,
 "nbformat_minor": 2
}
